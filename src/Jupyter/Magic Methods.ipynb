{
 "cells": [
  {
   "cell_type": "code",
   "execution_count": 20,
   "metadata": {},
   "outputs": [],
   "source": [
    "# Str magic method\n",
    "\n",
    "class Vehicle:\n",
    "    \n",
    "    def __init__(self, vid, vtype):\n",
    "        self.vid = vid\n",
    "        self.vtype = vtype\n",
    "\n",
    "    def __str__(self):\n",
    "        return 'Vehicle ID: ' + str(self.vid) + '; Vehicle Type: ' + self.vtype"
   ]
  },
  {
   "cell_type": "code",
   "execution_count": 21,
   "metadata": {},
   "outputs": [
    {
     "name": "stdout",
     "output_type": "stream",
     "text": [
      "Vehicle ID: 1; Vehicle Type: car\n"
     ]
    }
   ],
   "source": [
    "d = Vehicle(1, 'car')\n",
    "print(d)"
   ]
  },
  {
   "cell_type": "code",
   "execution_count": null,
   "metadata": {},
   "outputs": [],
   "source": []
  }
 ],
 "metadata": {
  "kernelspec": {
   "display_name": "Python 3",
   "language": "python",
   "name": "python3"
  },
  "language_info": {
   "codemirror_mode": {
    "name": "ipython",
    "version": 3
   },
   "file_extension": ".py",
   "mimetype": "text/x-python",
   "name": "python",
   "nbconvert_exporter": "python",
   "pygments_lexer": "ipython3",
   "version": "3.7.3"
  }
 },
 "nbformat": 4,
 "nbformat_minor": 2
}
