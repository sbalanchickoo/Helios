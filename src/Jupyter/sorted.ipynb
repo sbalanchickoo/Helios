{
 "cells": [
  {
   "cell_type": "code",
   "execution_count": 3,
   "metadata": {},
   "outputs": [
    {
     "data": {
      "text/plain": [
       "['black', 'blue', 'orange', 'red', 'yellow']"
      ]
     },
     "execution_count": 3,
     "metadata": {},
     "output_type": "execute_result"
    }
   ],
   "source": [
    "# basic sort\n",
    "colors = ['red', 'blue', 'black', 'yellow', 'orange']\n",
    "sorted(colors)"
   ]
  },
  {
   "cell_type": "code",
   "execution_count": 4,
   "metadata": {},
   "outputs": [
    {
     "data": {
      "text/plain": [
       "['yellow', 'red', 'orange', 'blue', 'black']"
      ]
     },
     "execution_count": 4,
     "metadata": {},
     "output_type": "execute_result"
    }
   ],
   "source": [
    "# descending order\n",
    "sorted(colors, reverse=True)"
   ]
  },
  {
   "cell_type": "code",
   "execution_count": 9,
   "metadata": {},
   "outputs": [
    {
     "data": {
      "text/plain": [
       "[{'name': 'john', 'age': 20},\n",
       " {'name': 'joan', 'age': 25},\n",
       " {'name': 'adam', 'age': 27},\n",
       " {'name': 'jill', 'age': 30}]"
      ]
     },
     "execution_count": 9,
     "metadata": {},
     "output_type": "execute_result"
    }
   ],
   "source": [
    "# sort based on lambda function\n",
    "students = [\n",
    "    {\n",
    "        'name': 'john',\n",
    "        'age': 20\n",
    "    },\n",
    "    {\n",
    "        'name': 'jill',\n",
    "        'age': 30\n",
    "    },\n",
    "    {\n",
    "        'name': 'joan',\n",
    "        'age': 25\n",
    "    },\n",
    "    {\n",
    "        'name': 'adam',\n",
    "        'age': 27\n",
    "    }\n",
    "]\n",
    "sorted(students, key=lambda student: student['age'])"
   ]
  },
  {
   "cell_type": "code",
   "execution_count": 10,
   "metadata": {},
   "outputs": [
    {
     "data": {
      "text/plain": [
       "[{'name': 'john', 'age': 20},\n",
       " {'name': 'joan', 'age': 25},\n",
       " {'name': 'adam', 'age': 27}]"
      ]
     },
     "execution_count": 10,
     "metadata": {},
     "output_type": "execute_result"
    }
   ],
   "source": [
    "# sort return subset of results\n",
    "sorted(students, key=lambda student: student['age'])[:3]"
   ]
  },
  {
   "cell_type": "code",
   "execution_count": null,
   "metadata": {},
   "outputs": [],
   "source": []
  }
 ],
 "metadata": {
  "kernelspec": {
   "display_name": "Python 3",
   "language": "python",
   "name": "python3"
  },
  "language_info": {
   "codemirror_mode": {
    "name": "ipython",
    "version": 3
   },
   "file_extension": ".py",
   "mimetype": "text/x-python",
   "name": "python",
   "nbconvert_exporter": "python",
   "pygments_lexer": "ipython3",
   "version": "3.7.3"
  }
 },
 "nbformat": 4,
 "nbformat_minor": 2
}
